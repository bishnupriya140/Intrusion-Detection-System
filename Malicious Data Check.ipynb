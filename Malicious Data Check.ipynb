{
 "cells": [
  {
   "cell_type": "code",
   "execution_count": 18,
   "id": "d13f824d-c4df-48a3-b8eb-98fee02ee354",
   "metadata": {},
   "outputs": [
    {
     "name": "stdout",
     "output_type": "stream",
     "text": [
      "  IP address\\tPort number\\tprotocol\n",
      "0         119.115.103.96\\t2001\\ttcp\n",
      "1        103.126.161.114\\t2140\\tudp\n",
      "2          117.82.77.153\\t2989\\ttcp\n",
      "3         162.247.74.74\\t12346\\ttcp\n",
      "4         171.25.193.77\\t20433\\tudp\n",
      "5          54.37.203.143\\t4950\\ttcp\n",
      "6          192.142.133.7\\t5390\\tDNS\n",
      "7        58.215.218.170\\t8443\\tHTTP\n"
     ]
    }
   ],
   "source": [
    "import pandas as pd \n",
    "import numpy as np\n",
    "maliciousList = pd.read_csv(r'C:\\Users\\Krishna\\Downloads\\malicious.txt')\n",
    "print(maliciousList)"
   ]
  },
  {
   "cell_type": "code",
   "execution_count": 20,
   "id": "6a343ef8-aa1c-4402-92d4-ec82a4aca183",
   "metadata": {},
   "outputs": [
    {
     "name": "stdout",
     "output_type": "stream",
     "text": [
      "['Frame 13: 55 bytes on wire (440 bits), 55 bytes captured (440 bits) on the\\n', 'interface.\\n', 'Source MAC: AzureWav6c : bc : e5(dc : f 5 : 05 : 6c : bc : e5)\\n', 'Destination MAC: ca:a5:be:7e:a2:22 (ca:a5:be:7e:a2:22)\\n', 'Internet Protocol Version 4\\n', 'Source IP: 117.82.77.153\\n', 'Destination IP: 142.250.193.138\\n', 'Transmission Control Protocol, Src Port: 5390, Dst Port: 443, Seq: 1,\\n', 'Ack: 1, Len: 1\\n', 'Source Port: 5390\\n', 'Destination Port: 443\\n', 'TCP payload (1 byte)']\n",
      "Frame 13: 55 bytes on wire (440 bits), 55 bytes captured (440 bits) on the\n",
      " interface.\n",
      " Source MAC: AzureWav6c : bc : e5(dc : f 5 : 05 : 6c : bc : e5)\n",
      " Destination MAC: ca:a5:be:7e:a2:22 (ca:a5:be:7e:a2:22)\n",
      " Internet Protocol Version 4\n",
      " Source IP: 117.82.77.153\n",
      " Destination IP: 142.250.193.138\n",
      " Transmission Control Protocol, Src Port: 5390, Dst Port: 443, Seq: 1,\n",
      " Ack: 1, Len: 1\n",
      " Source Port: 5390\n",
      " Destination Port: 443\n",
      " TCP payload (1 byte)\n"
     ]
    }
   ],
   "source": [
    "packet =open(r'C:\\Users\\Krishna\\Downloads\\data.txt', 'r')\n",
    "data = packet.readlines()\n",
    "print(data)\n",
    "# Convert list to string\n",
    "StringData = ' '.join([d for d in data])\n",
    "print(StringData)"
   ]
  },
  {
   "cell_type": "code",
   "execution_count": 34,
   "id": "83ba572f-bd94-4d64-8b96-0fdba49caf3e",
   "metadata": {},
   "outputs": [
    {
     "name": "stdout",
     "output_type": "stream",
     "text": [
      "Number of row and column:  8 1\n",
      "Packet is malicious\n"
     ]
    }
   ],
   "source": [
    "row,col = maliciousList.shape\n",
    "print('Number of row and column: ', row, col)\n",
    "flag = 0;\n",
    "for i in range(row):\n",
    "    for j in range(col-1):\n",
    "        if str(maliciousList.iloc[i,j]) in StringData:\n",
    "            flag = 1\n",
    "            print('Packet is not malicious')\n",
    "            break\n",
    "    if flag == 1:\n",
    "        break\n",
    "if flag == 0:\n",
    "     print('Packet is malicious')"
   ]
  },
  {
   "cell_type": "code",
   "execution_count": null,
   "id": "5a3c4594-7304-4095-b727-ee88c35a3409",
   "metadata": {},
   "outputs": [],
   "source": []
  }
 ],
 "metadata": {
  "kernelspec": {
   "display_name": "Python 3 (ipykernel)",
   "language": "python",
   "name": "python3"
  },
  "language_info": {
   "codemirror_mode": {
    "name": "ipython",
    "version": 3
   },
   "file_extension": ".py",
   "mimetype": "text/x-python",
   "name": "python",
   "nbconvert_exporter": "python",
   "pygments_lexer": "ipython3",
   "version": "3.12.4"
  }
 },
 "nbformat": 4,
 "nbformat_minor": 5
}
